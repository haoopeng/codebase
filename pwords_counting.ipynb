{
 "cells": [
  {
   "cell_type": "code",
   "execution_count": 1,
   "id": "6c78000c",
   "metadata": {},
   "outputs": [],
   "source": [
    "import re\n",
    "import csv\n",
    "import time\n",
    "import math\n",
    "import json\n",
    "import string\n",
    "import pickle\n",
    "import requests\n",
    "import numpy as np\n",
    "import pandas as pd\n",
    "import seaborn as sns\n",
    "import readability\n",
    "import statistics\n",
    "from sklearn import metrics\n",
    "from itertools import combinations\n",
    "from collections import defaultdict\n",
    "import matplotlib.pyplot as plt\n",
    "from scipy import stats\n",
    "import statsmodels.formula.api as smf\n",
    "from sklearn.model_selection import KFold\n",
    "from sklearn.preprocessing import StandardScaler\n",
    "from sklearn.linear_model import LogisticRegression\n",
    "from sklearn.model_selection import train_test_split"
   ]
  },
  {
   "cell_type": "code",
   "execution_count": 2,
   "id": "03c9f2bf",
   "metadata": {},
   "outputs": [],
   "source": [
    "import warnings\n",
    "warnings.filterwarnings('ignore')"
   ]
  },
  {
   "cell_type": "code",
   "execution_count": 3,
   "id": "c4ee553a",
   "metadata": {},
   "outputs": [],
   "source": [
    "pd.options.display.max_rows = 1000\n",
    "pd.options.display.max_columns = 300\n",
    "pd.options.display.max_colwidth = 500"
   ]
  },
  {
   "cell_type": "markdown",
   "id": "1a2257a5",
   "metadata": {},
   "source": [
    "### Count hype words"
   ]
  },
  {
   "cell_type": "code",
   "execution_count": 6,
   "id": "e2ef3639",
   "metadata": {},
   "outputs": [],
   "source": [
    "hype_dict = {\n",
    " 'Importance': ['compelling',\n",
    " 'critical',\n",
    " 'crucial',\n",
    " 'essential',\n",
    " 'foundational',\n",
    " 'fundamental',\n",
    " 'imperative',\n",
    " 'important',\n",
    " 'indispensable',\n",
    " 'invaluable',\n",
    " 'key',\n",
    " 'major',\n",
    " 'paramount',\n",
    " 'pivotal',\n",
    " 'significant',\n",
    " 'strategic',\n",
    " 'timely',\n",
    " 'ultimate',\n",
    " 'urgent',\n",
    " 'vital'],\n",
    "\n",
    "'Novelty': ['creative',\n",
    " 'emerging',\n",
    " 'first',\n",
    " 'groundbreaking',\n",
    " 'innovative',\n",
    " 'latest',\n",
    " 'novel',\n",
    " 'revolutionary',\n",
    " 'unique',\n",
    " 'unparalleled',\n",
    " 'unprecedented'],\n",
    "             \n",
    "'Rigor': ['accurate',\n",
    " 'advanced',\n",
    " 'careful',\n",
    " 'cohesive',\n",
    " 'detailed',\n",
    " 'nuanced',\n",
    " 'powerful',\n",
    " 'quality',\n",
    " 'reproducible',\n",
    " 'rigorous',\n",
    " 'robust',\n",
    " 'scientific',\n",
    " 'sophisticated',\n",
    " 'strong',\n",
    " 'systematic'],\n",
    "             \n",
    "'Scale': ['ample',\n",
    " 'biggest',\n",
    " 'broad',\n",
    " 'comprehensive',\n",
    " 'considerable',\n",
    " 'deeper',\n",
    " 'diverse',\n",
    " 'enormous',\n",
    " 'expansive',\n",
    " 'extensive',\n",
    " 'fastest',\n",
    " 'greatest',\n",
    " 'huge',\n",
    " 'immediate',\n",
    " 'immense',\n",
    " 'interdisciplinary',\n",
    " 'international',\n",
    " 'interprofessional',\n",
    " 'largest',\n",
    " 'massive',\n",
    " 'multidisciplinary',\n",
    " 'myriad',\n",
    " 'overwhelming',\n",
    " 'substantial',\n",
    " 'top',\n",
    " 'transdisciplinary',\n",
    " 'tremendous',\n",
    " 'vast'],\n",
    "             \n",
    "'Utility': ['accessible',\n",
    " 'actionable',\n",
    " 'deployable',\n",
    " 'durable',\n",
    " 'easy',\n",
    " 'effective',\n",
    " 'efficacious',\n",
    " 'efficient',\n",
    " 'generalizable',\n",
    " 'ideal',\n",
    " 'impactful',\n",
    " 'intuitive',\n",
    " 'meaningful',\n",
    " 'productive',\n",
    " 'ready',\n",
    " 'relevant',\n",
    " 'rich',\n",
    " 'safer',\n",
    " 'scalable',\n",
    " 'seamless',\n",
    " 'sustainable',\n",
    " 'synergistic',\n",
    " 'tailored',\n",
    " 'tangible',\n",
    " 'transformative',\n",
    " 'user-friendly'],\n",
    "             \n",
    "'Quality': ['ambitious',\n",
    " 'collegial',\n",
    " 'dedicated',\n",
    " 'exceptional',\n",
    " 'experienced',\n",
    " 'intellectual',\n",
    " 'longstanding',\n",
    " 'motivated',\n",
    " 'premier',\n",
    " 'prestigious',\n",
    " 'promising',\n",
    " 'qualified',\n",
    " 'renowned',\n",
    " 'senior',\n",
    " 'skilled',\n",
    " 'stellar',\n",
    " 'successful',\n",
    " 'talented',\n",
    " 'vibrant'],\n",
    "             \n",
    "'Attitude': ['attractive',\n",
    " 'confident',\n",
    " 'exciting',\n",
    " 'incredible',\n",
    " 'interesting',\n",
    " 'intriguing',\n",
    " 'notable',\n",
    " 'outstanding',\n",
    " 'remarkable',\n",
    " 'surprising'],\n",
    "             \n",
    "'Problem': ['alarming',\n",
    " 'daunting',\n",
    " 'desperate',\n",
    " 'devastating',\n",
    " 'dire',\n",
    " 'dismal',\n",
    " 'elusive',\n",
    " 'stark',\n",
    " 'unanswered',\n",
    " 'unmet']\n",
    "}"
   ]
  },
  {
   "cell_type": "code",
   "execution_count": 7,
   "id": "6e86db9d",
   "metadata": {},
   "outputs": [],
   "source": [
    "hype_words = set()\n",
    "for cate in hype_dict:\n",
    "    for w in hype_dict[cate]:\n",
    "        hype_words.add(w)"
   ]
  },
  {
   "cell_type": "code",
   "execution_count": 8,
   "id": "a9f20021",
   "metadata": {
    "scrolled": true
   },
   "outputs": [
    {
     "data": {
      "text/plain": [
       "139"
      ]
     },
     "execution_count": 8,
     "metadata": {},
     "output_type": "execute_result"
    }
   ],
   "source": [
    "len(hype_words)"
   ]
  },
  {
   "cell_type": "code",
   "execution_count": 29,
   "id": "3f3c2161",
   "metadata": {},
   "outputs": [
    {
     "data": {
      "text/plain": [
       "'nuanced + interdisciplinary + latest + motivated + durable + groundbreaking + premier + fastest + senior + efficacious + crucial + key + intuitive + substantial + strong + dire + emerging + tangible + first + top + exceptional + tremendous + notable + stark + comprehensive + expansive + largest + user-friendly + unprecedented + systematic + innovative + experienced + synergistic + talented + confident + pivotal + revolutionary + remarkable + fundamental + actionable + dedicated + enormous + skilled + vast + relevant + devastating + vibrant + seamless + biggest + significant + unanswered + effective + dismal + qualified + powerful + scalable + robust + greatest + ready + impactful + generalizable + huge + promising + critical + safer + daunting + accurate + meaningful + diverse + invaluable + advanced + productive + alarming + international + multidisciplinary + imperative + interesting + desperate + interprofessional + intriguing + ample + quality + successful + attractive + exciting + rigorous + accessible + essential + elusive + compelling + paramount + longstanding + immense + detailed + efficient + overwhelming + rich + ambitious + prestigious + stellar + myriad + outstanding + broad + novel + scientific + transformative + collegial + major + immediate + reproducible + indispensable + massive + unmet + unparalleled + easy + surprising + considerable + tailored + ideal + careful + deeper + urgent + deployable + ultimate + creative + vital + renowned + extensive + sophisticated + transdisciplinary + timely + unique + foundational + intellectual + cohesive + incredible + important + strategic + sustainable'"
      ]
     },
     "execution_count": 29,
     "metadata": {},
     "output_type": "execute_result"
    }
   ],
   "source": [
    "' + '.join(hype_words)"
   ]
  },
  {
   "cell_type": "code",
   "execution_count": 16,
   "id": "292d03a9",
   "metadata": {
    "scrolled": true
   },
   "outputs": [],
   "source": [
    "table = str.maketrans('', '', string.punctuation)\n",
    "\n",
    "def parse_text(text):\n",
    "    words = text.lower().split()\n",
    "    # rm punctuation\n",
    "    words = [w.translate(table) for w in words]\n",
    "    return words\n",
    "    \n",
    "def count_words(words):\n",
    "    return len(words)\n",
    "    \n",
    "def count_hype_words(words):\n",
    "    mdict = defaultdict(int)\n",
    "    for w in words:\n",
    "        if w in hype_words:\n",
    "            mdict[w] += 1\n",
    "    cn_li = [mdict[w] for w in hype_words]\n",
    "    return cn_li"
   ]
  },
  {
   "cell_type": "code",
   "execution_count": 34,
   "id": "5e5788e6",
   "metadata": {},
   "outputs": [],
   "source": [
    "data_comb['words_parse'] = data_comb['Project_description_clean'].apply(parse_text)"
   ]
  },
  {
   "cell_type": "code",
   "execution_count": 35,
   "id": "f57fc9d2",
   "metadata": {},
   "outputs": [],
   "source": [
    "data_comb['num_words'] = data_comb['words_parse'].apply(count_words)"
   ]
  },
  {
   "cell_type": "code",
   "execution_count": 36,
   "id": "ff956a03",
   "metadata": {},
   "outputs": [],
   "source": [
    "data_comb['words_cn_li'] = data_comb['words_parse'].apply(count_hype_words)"
   ]
  },
  {
   "cell_type": "code",
   "execution_count": 37,
   "id": "ffe88d7d",
   "metadata": {},
   "outputs": [],
   "source": [
    "data_comb[[w for w in hype_words]] = pd.DataFrame(data_comb['words_cn_li'].values.tolist(), index = data_comb.index)\n",
    "data_comb = data_comb.drop(columns=['words_cn_li'])"
   ]
  },
  {
   "cell_type": "code",
   "execution_count": 39,
   "id": "2da14a95",
   "metadata": {},
   "outputs": [],
   "source": [
    "data_comb['total_num_hype_words'] = data_comb[list(hype_words)].sum(axis=1)"
   ]
  },
  {
   "cell_type": "code",
   "execution_count": 40,
   "id": "e28ccfd4",
   "metadata": {},
   "outputs": [],
   "source": [
    "data_comb['frac_hype_words'] = data_comb['total_num_hype_words'] / data_comb['num_words']"
   ]
  },
  {
   "cell_type": "code",
   "execution_count": 41,
   "id": "4609708c",
   "metadata": {},
   "outputs": [],
   "source": [
    "# count category\n",
    "for cate in hype_dict:\n",
    "    words = hype_dict[cate]\n",
    "    data_comb[cate] = np.sum(data_comb[words], axis = 1)"
   ]
  },
  {
   "cell_type": "markdown",
   "id": "d1dbe5de",
   "metadata": {},
   "source": [
    "#### Save reg data"
   ]
  },
  {
   "cell_type": "code",
   "execution_count": 63,
   "id": "1d5401e8",
   "metadata": {},
   "outputs": [],
   "source": [
    "data_comb.to_csv(data_root+'reg_data.csv', header=True, index=False, quoting=csv.QUOTE_ALL)"
   ]
  },
  {
   "cell_type": "code",
   "execution_count": 28,
   "id": "1c7d5644",
   "metadata": {
    "scrolled": true
   },
   "outputs": [],
   "source": [
    "# data_comb = pd.read_csv(data_root+'reg_data.csv', header=0)"
   ]
  }
 ],
 "metadata": {
  "kernelspec": {
   "display_name": "Python 3 (ipykernel)",
   "language": "python",
   "name": "python3"
  },
  "language_info": {
   "codemirror_mode": {
    "name": "ipython",
    "version": 3
   },
   "file_extension": ".py",
   "mimetype": "text/x-python",
   "name": "python",
   "nbconvert_exporter": "python",
   "pygments_lexer": "ipython3",
   "version": "3.12.9"
  }
 },
 "nbformat": 4,
 "nbformat_minor": 5
}
